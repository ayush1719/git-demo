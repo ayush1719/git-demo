{
  "nbformat": 4,
  "nbformat_minor": 0,
  "metadata": {
    "colab": {
      "provenance": [],
      "authorship_tag": "ABX9TyO3yPtr1Iyu3jImx/NZMYj9",
      "include_colab_link": true
    },
    "kernelspec": {
      "name": "python3",
      "display_name": "Python 3"
    },
    "language_info": {
      "name": "python"
    }
  },
  "cells": [
    {
      "cell_type": "markdown",
      "metadata": {
        "id": "view-in-github",
        "colab_type": "text"
      },
      "source": [
        "<a href=\"https://colab.research.google.com/github/ayush1719/git-demo/blob/Python/Python_practise.ipynb\" target=\"_parent\"><img src=\"https://colab.research.google.com/assets/colab-badge.svg\" alt=\"Open In Colab\"/></a>"
      ]
    },
    {
      "cell_type": "markdown",
      "source": [
        "Hello world"
      ],
      "metadata": {
        "id": "sr-CMxAszUdt"
      }
    },
    {
      "cell_type": "code",
      "execution_count": 3,
      "metadata": {
        "colab": {
          "base_uri": "https://localhost:8080/"
        },
        "id": "40eKApVSf_3-",
        "outputId": "5018091b-23f6-42ff-f87b-787d40b360fc"
      },
      "outputs": [
        {
          "output_type": "stream",
          "name": "stdout",
          "text": [
            "hello\n",
            "world\n"
          ]
        }
      ],
      "source": [
        "print(\"hello\",end='\\n')\n",
        "print(\"world\")"
      ]
    },
    {
      "cell_type": "markdown",
      "source": [
        "operators ka question"
      ],
      "metadata": {
        "id": "AXyklnxOzYT2"
      }
    },
    {
      "cell_type": "code",
      "source": [
        "#print the sum of a three digit number from user input\n",
        "\n",
        "num = int(input(\"Enter a three digit number : \"))\n",
        "\n",
        "#if num is 345\n",
        "#a = 345%10 = 5\n",
        "a = num%10\n",
        "\n",
        "#now 345//10 = 34.5 -> 34\n",
        "num = num//10\n",
        "\n",
        "#now b = 34%10 = 4\n",
        "b = num%10\n",
        "\n",
        "#now 34%10 = 3.4 -> 3\n",
        "num = num//10\n",
        "\n",
        "#now 3%10 = 3\n",
        "c = num%10\n",
        "\n",
        "print(a+b+c)"
      ],
      "metadata": {
        "colab": {
          "base_uri": "https://localhost:8080/"
        },
        "id": "NDMArE2UgNVG",
        "outputId": "74333d11-ef9a-44dc-c8dd-b10e238e4f93"
      },
      "execution_count": 1,
      "outputs": [
        {
          "output_type": "stream",
          "name": "stdout",
          "text": [
            "Enter a three digit number : 123\n",
            "6\n"
          ]
        }
      ]
    },
    {
      "cell_type": "markdown",
      "source": [
        "if-else"
      ],
      "metadata": {
        "id": "ODtI7Yyczfeh"
      }
    },
    {
      "cell_type": "code",
      "source": [
        "#email and password check example\n",
        "\n",
        "email = input(\"type your email : \")\n",
        "password = input(\"type your password : \")\n",
        "\n",
        "if email == \"17ayushsoni@gmail.com\" and password == \"Ayushsoni\":\n",
        "  print(f\"Welcome to Asznee's world\")\n",
        "\n",
        "else:\n",
        "  print(f\"Sorry you are not authorised to enter\")"
      ],
      "metadata": {
        "colab": {
          "base_uri": "https://localhost:8080/"
        },
        "id": "uxVttd5VzSFg",
        "outputId": "6b065bdd-0719-4819-c489-3353da5f3898"
      },
      "execution_count": 2,
      "outputs": [
        {
          "output_type": "stream",
          "name": "stdout",
          "text": [
            "type your email : 17ayushsoni@gmail.com\n",
            "type your password : Ayushsoni\n",
            "Welcome to Asznee's world\n"
          ]
        }
      ]
    },
    {
      "cell_type": "code",
      "source": [
        "#min of 3 numbers\n",
        "\n",
        "num1 = int(input(\"Enter a num : \"))\n",
        "num2 = int(input(\"Enter a num : \"))\n",
        "num3 = int(input(\"Enter a num : \"))\n",
        "\n",
        "if num1 < num2 and num1 < num3:\n",
        "  print(f'{num1} is the smallest')\n",
        "elif num2 < num3:\n",
        "  print(f'{num2} is the smallest')\n",
        "else :\n",
        "  print(f'{num3} is the smallest')"
      ],
      "metadata": {
        "colab": {
          "base_uri": "https://localhost:8080/"
        },
        "id": "W3eEHUsg8aPT",
        "outputId": "ca09f9e3-a7ba-4ca9-f503-47da0d1cfe93"
      },
      "execution_count": 4,
      "outputs": [
        {
          "output_type": "stream",
          "name": "stdout",
          "text": [
            "Enter a num : 76\n",
            "Enter a num : 56\n",
            "Enter a num : 43\n",
            "43 is the smallest\n"
          ]
        }
      ]
    },
    {
      "cell_type": "markdown",
      "source": [
        "loops"
      ],
      "metadata": {
        "id": "2bfRvfp4__VQ"
      }
    },
    {
      "cell_type": "code",
      "source": [
        "#print table of number with for\n",
        "\n",
        "num = int(input(\"Enter a num : \"))\n",
        "\n",
        "for i in range (1,11):\n",
        "  product = i*num\n",
        "  print(f'{num} * {i} = {product}')"
      ],
      "metadata": {
        "colab": {
          "base_uri": "https://localhost:8080/"
        },
        "id": "omPbhTuxACem",
        "outputId": "76a28835-fc98-4362-f71a-3a90d6b973d0"
      },
      "execution_count": 5,
      "outputs": [
        {
          "output_type": "stream",
          "name": "stdout",
          "text": [
            "Enter a num : 5\n",
            "5 * 1 = 5\n",
            "5 * 2 = 10\n",
            "5 * 3 = 15\n",
            "5 * 4 = 20\n",
            "5 * 5 = 25\n",
            "5 * 6 = 30\n",
            "5 * 7 = 35\n",
            "5 * 8 = 40\n",
            "5 * 9 = 45\n",
            "5 * 10 = 50\n"
          ]
        }
      ]
    },
    {
      "cell_type": "code",
      "source": [
        "#print table of number with while\n",
        "\n",
        "num = int(input(\"Enter a num : \"))\n",
        "\n",
        "i = 1\n",
        "while i < 11:\n",
        "  #product = i*num\n",
        "  print(f'{num} * {i} = {num*i}')\n",
        "  i = i + 1"
      ],
      "metadata": {
        "colab": {
          "base_uri": "https://localhost:8080/"
        },
        "id": "8bqWQlZZBWUH",
        "outputId": "f4a8c009-9a5f-419d-ff8a-f5b965b30a16"
      },
      "execution_count": 2,
      "outputs": [
        {
          "output_type": "stream",
          "name": "stdout",
          "text": [
            "Enter a num : 13\n",
            "13 * 1 = 13\n",
            "13 * 2 = 26\n",
            "13 * 3 = 39\n",
            "13 * 4 = 52\n",
            "13 * 5 = 65\n",
            "13 * 6 = 78\n",
            "13 * 7 = 91\n",
            "13 * 8 = 104\n",
            "13 * 9 = 117\n",
            "13 * 10 = 130\n"
          ]
        }
      ]
    },
    {
      "cell_type": "code",
      "source": [
        "#Guessing game question\n",
        "\n",
        "import random\n",
        "\n",
        "jackpot_no = random.randint(1,200)\n",
        "\n",
        "guess = int(input(\"Enter your guess : \"))\n",
        "\n",
        "counter = 1\n",
        "\n",
        "while guess != jackpot_no:\n",
        "  if guess < jackpot_no:\n",
        "    print(\"Guess higher\")\n",
        "  else:\n",
        "    print(\"Guess lower\")\n",
        "\n",
        "  guess = int(input(\"Enter your guess : \"))\n",
        "  counter += 1\n",
        "\n",
        "else:\n",
        "  print(\"Correct guess\")\n",
        "  print(f\"you took {counter} attempts\")"
      ],
      "metadata": {
        "colab": {
          "base_uri": "https://localhost:8080/"
        },
        "id": "I4nftL59GwJ9",
        "outputId": "bbac1481-4628-4f44-cae1-dae489b8c057"
      },
      "execution_count": 3,
      "outputs": [
        {
          "output_type": "stream",
          "name": "stdout",
          "text": [
            "Enter your guess : 150\n",
            "Guess higher\n",
            "Enter your guess : 170\n",
            "Guess higher\n",
            "Enter your guess : 185\n",
            "Guess higher\n",
            "Enter your guess : 198\n",
            "Guess lower\n",
            "Enter your guess : 194\n",
            "Guess lower\n",
            "Enter your guess : 190\n",
            "Guess higher\n",
            "Enter your guess : 192\n",
            "Guess higher\n",
            "Enter your guess : 193\n",
            "Correct guess\n",
            "you took 8 attempts\n"
          ]
        }
      ]
    },
    {
      "cell_type": "code",
      "source": [
        "current_pop = 10000\n",
        "\n",
        "for i in range (10,0,-1):\n",
        "  print (f\"year {i} had population {int(current_pop)}\")\n",
        "  current_pop = current_pop/1.1\n",
        ""
      ],
      "metadata": {
        "colab": {
          "base_uri": "https://localhost:8080/"
        },
        "id": "eym0X2kAdNYx",
        "outputId": "bd7666f6-78eb-46bb-f0b7-7c54a23168fb"
      },
      "execution_count": 23,
      "outputs": [
        {
          "output_type": "stream",
          "name": "stdout",
          "text": [
            "year 10 had population 10000\n",
            "year 9 had population 9090\n",
            "year 8 had population 8264\n",
            "year 7 had population 7513\n",
            "year 6 had population 6830\n",
            "year 5 had population 6209\n",
            "year 4 had population 5644\n",
            "year 3 had population 5131\n",
            "year 2 had population 4665\n",
            "year 1 had population 4240\n"
          ]
        }
      ]
    },
    {
      "cell_type": "code",
      "source": [
        "#factorial question\n",
        "\n",
        "num = int(input(\"Enter a num : \"))\n",
        "\n",
        "result = 0\n",
        "fact = 1\n",
        "\n",
        "for i in range (1, num+1):\n",
        "  fact = fact * i\n",
        "  result += i/fact\n",
        "\n",
        "print (result)"
      ],
      "metadata": {
        "colab": {
          "base_uri": "https://localhost:8080/"
        },
        "id": "qQBQGWXAkQoX",
        "outputId": "20b24891-b550-4341-9c9a-f7ff76ebe510"
      },
      "execution_count": 25,
      "outputs": [
        {
          "output_type": "stream",
          "name": "stdout",
          "text": [
            "Enter a num : 3\n",
            "2.5\n"
          ]
        }
      ]
    },
    {
      "cell_type": "code",
      "source": [
        "#outer aur inner loop samjhne ka tareeka\n",
        "#outer loop dega -> no of row, mtlb vertical result\n",
        "#inner loop defa -> value inside each row, mtlb horizantal result\n",
        "\n",
        "for i in range (1,5):\n",
        "  for j in range (1,5):\n",
        "    print(i,j)"
      ],
      "metadata": {
        "colab": {
          "base_uri": "https://localhost:8080/"
        },
        "id": "EZBi8EbcniDF",
        "outputId": "34a312b0-5971-4cbc-f04c-c9a335474acc"
      },
      "execution_count": 26,
      "outputs": [
        {
          "output_type": "stream",
          "name": "stdout",
          "text": [
            "1 1\n",
            "1 2\n",
            "1 3\n",
            "1 4\n",
            "2 1\n",
            "2 2\n",
            "2 3\n",
            "2 4\n",
            "3 1\n",
            "3 2\n",
            "3 3\n",
            "3 4\n",
            "4 1\n",
            "4 2\n",
            "4 3\n",
            "4 4\n"
          ]
        }
      ]
    },
    {
      "cell_type": "code",
      "source": [
        "rows = int(input(\"Enter the number of row you want : \"))\n",
        "\n",
        "for i in range (1, rows+1):\n",
        "  for j in range (1, i+1): #andar wale loop me i ki jitni value hai utna iterations aur star honge\n",
        "    print(\"*\",end=' ') #inner loop ke sare star ek space se separate ho naa ki next line se\n",
        "  print(end='\\n') #outer loop me print diya next line pr next value ke liye jaise next line se i=2 ke liye chalega"
      ],
      "metadata": {
        "colab": {
          "base_uri": "https://localhost:8080/"
        },
        "id": "fV6ENeuponD3",
        "outputId": "7174d09c-2db2-4dae-f3f5-a2ca1b4ae7f3"
      },
      "execution_count": 5,
      "outputs": [
        {
          "output_type": "stream",
          "name": "stdout",
          "text": [
            "Enter the number of row you want : 3\n",
            "* \n",
            "* * \n",
            "* * * \n"
          ]
        }
      ]
    }
  ]
}